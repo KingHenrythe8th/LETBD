{
  "nbformat": 4,
  "nbformat_minor": 0,
  "metadata": {
    "colab": {
      "name": "Comp House Search.ipynb",
      "version": "0.3.2",
      "provenance": [],
      "include_colab_link": true
    },
    "kernelspec": {
      "name": "python3",
      "display_name": "Python 3"
    }
  },
  "cells": [
    {
      "cell_type": "markdown",
      "metadata": {
        "id": "view-in-github",
        "colab_type": "text"
      },
      "source": [
        "<a href=\"https://colab.research.google.com/github/KingHenrythe8th/LETBD/blob/master/Comp_House_Search.ipynb\" target=\"_parent\"><img src=\"https://colab.research.google.com/assets/colab-badge.svg\" alt=\"Open In Colab\"/></a>"
      ]
    },
    {
      "metadata": {
        "id": "h9paakfwdMd4",
        "colab_type": "text"
      },
      "cell_type": "markdown",
      "source": [
        "# Companies House - Company Status Search"
      ]
    },
    {
      "metadata": {
        "id": "ISPNyymzdadk",
        "colab_type": "text"
      },
      "cell_type": "markdown",
      "source": [
        "This Colab doc will take a csv file with company names as an input and return a csv containing the company name, address snippet, company status and the date the company was dissolved.\n",
        "\n",
        "The rate limit has been set below the limit of 600 API calls per 5 minutes\n",
        "\n",
        "- First the input.csv should be loaded in the Colab upload facility\n",
        "- Second the 'Runtime' 'Run All' should be selected from the Colab menu"
      ]
    },
    {
      "metadata": {
        "id": "ECaTHAMHdbwW",
        "colab_type": "text"
      },
      "cell_type": "markdown",
      "source": [
        "## Set up connection to Companies House API\n",
        "- This uses a previously created API key "
      ]
    },
    {
      "metadata": {
        "id": "XOu2pLMhdJHD",
        "colab_type": "code",
        "colab": {}
      },
      "cell_type": "code",
      "source": [
        "import requests\n",
        "import csv\n",
        "import time"
      ],
      "execution_count": 0,
      "outputs": []
    },
    {
      "metadata": {
        "id": "oz8lk4Zq7zwN",
        "colab_type": "code",
        "colab": {}
      },
      "cell_type": "code",
      "source": [
        "\n",
        "password = ''\n",
        "\n",
        "payload = {'q':num}"
      ],
      "execution_count": 0,
      "outputs": []
    },
    {
      "metadata": {
        "id": "AZZmrM5JC1_w",
        "colab_type": "code",
        "colab": {}
      },
      "cell_type": "code",
      "source": [
        "s = requests.Session()"
      ],
      "execution_count": 0,
      "outputs": []
    },
    {
      "metadata": {
        "id": "OR0cvkBwFK38",
        "colab_type": "code",
        "colab": {}
      },
      "cell_type": "code",
      "source": [
        "s.auth = (API_KEY,password)"
      ],
      "execution_count": 0,
      "outputs": []
    },
    {
      "metadata": {
        "id": "3JnCuu31Fok5",
        "colab_type": "code",
        "outputId": "3d2f23fd-6692-4749-f033-a539757957fa",
        "colab": {
          "base_uri": "https://localhost:8080/",
          "height": 34
        }
      },
      "cell_type": "code",
      "source": [
        "s.request(method='get',url='https://api.companieshouse.gov.uk/search',params=payload)"
      ],
      "execution_count": 0,
      "outputs": [
        {
          "output_type": "execute_result",
          "data": {
            "text/plain": [
              "<Response [200]>"
            ]
          },
          "metadata": {
            "tags": []
          },
          "execution_count": 9
        }
      ]
    },
    {
      "metadata": {
        "id": "b96wE_NzFrvY",
        "colab_type": "code",
        "outputId": "1f7fd6d5-8e5e-41c3-cd7f-ab5b599fad07",
        "colab": {
          "base_uri": "https://localhost:8080/",
          "height": 34
        }
      },
      "cell_type": "code",
      "source": [
        ""
      ],
      "execution_count": 0,
      "outputs": [
        {
          "output_type": "execute_result",
          "data": {
            "text/plain": [
              "'dissolved'"
            ]
          },
          "metadata": {
            "tags": []
          },
          "execution_count": 10
        }
      ]
    },
    {
      "metadata": {
        "id": "CBHoLCyRe42o",
        "colab_type": "text"
      },
      "cell_type": "markdown",
      "source": [
        "## Input CSV, commit calls and write output CSV\n",
        "\n",
        "- The CSV input file name should be input.csv and this should be uploaded using the Colab upload facility\n",
        "- The input CSV should only contain company numbers with no column heading\n",
        "- The output.csv file will need to be downloaded from the 'content' file - shown as part of the Colab upload facility\n",
        "- A \"COMPLETED\" statement will be printed once the output file is completed. If it is not showing in the Colab upload facility try 'refreshing' the facility"
      ]
    },
    {
      "metadata": {
        "id": "k04zsNZAEY1m",
        "colab_type": "code",
        "colab": {}
      },
      "cell_type": "code",
      "source": [
        "with open('/content/input.csv', newline='') as csvfile:\n",
        "  compreader = csv.reader(csvfile)\n",
        "  with open('/content/output.csv', 'w', newline='') as retfile:\n",
        "    retwriter = csv.writer(retfile,delimiter=\"|\")\n",
        "    for row in compreader:\n",
        "      time.sleep(3)\n",
        "      payload_it = {'q':11}\n",
        "      payload_it['q'] = row[0]\n",
        "      ret = s.get('https://api.companieshouse.gov.uk/search',params=payload_it)\n",
        "      try:\n",
        "        retwriter.writerow([ret.json()['items'][0]['company_number'] + \"|\"\n",
        "                         + ret.json()['items'][0]['address_snippet'] + \"|\"\n",
        "                        + ret.json()['items'][0]['company_status'] + \"|\"\n",
        "                        + ret.json()['items'][0]['date_of_cessation']])\n",
        "      except:\n",
        "        retwriter.writerow([ret.json()['items'][0]['company_number'] + \"|\"\n",
        "                         + ret.json()['items'][0]['address_snippet'] + \"|\"\n",
        "                        + ret.json()['items'][0]['company_status'] + \"|\"])\n",
        "\n",
        "print ('COMPLETED')"
      ],
      "execution_count": 0,
      "outputs": []
    },
    {
      "metadata": {
        "id": "SDYIBsIzHGSb",
        "colab_type": "code",
        "colab": {}
      },
      "cell_type": "code",
      "source": [
        ""
      ],
      "execution_count": 0,
      "outputs": []
    },
    {
      "metadata": {
        "id": "0yNmkSnXKwhr",
        "colab_type": "code",
        "colab": {}
      },
      "cell_type": "code",
      "source": [
        ""
      ],
      "execution_count": 0,
      "outputs": []
    },
    {
      "metadata": {
        "id": "4SqtKGn3Zkrm",
        "colab_type": "code",
        "outputId": "f25c2ddb-e520-41bb-dfd5-c50deac6f8ad",
        "colab": {
          "base_uri": "https://localhost:8080/",
          "height": 34
        }
      },
      "cell_type": "code",
      "source": [
        ""
      ],
      "execution_count": 0,
      "outputs": [
        {
          "output_type": "execute_result",
          "data": {
            "text/plain": [
              "'helloheelo'"
            ]
          },
          "metadata": {
            "tags": []
          },
          "execution_count": 14
        }
      ]
    },
    {
      "metadata": {
        "id": "GhNgdfxcZlPL",
        "colab_type": "code",
        "outputId": "07e08cc8-dd40-4cd0-dc57-4166e00d098e",
        "colab": {
          "base_uri": "https://localhost:8080/",
          "height": 132
        }
      },
      "cell_type": "code",
      "source": [
        ""
      ],
      "execution_count": 0,
      "outputs": [
        {
          "output_type": "error",
          "ename": "SyntaxError",
          "evalue": "ignored",
          "traceback": [
            "\u001b[0;36m  File \u001b[0;32m\"<ipython-input-18-17603402c48a>\"\u001b[0;36m, line \u001b[0;32m3\u001b[0m\n\u001b[0;31m    + ret.json()['items'][0]['company_status'] + \"|\"\u001b[0m\n\u001b[0m                                                    ^\u001b[0m\n\u001b[0;31mSyntaxError\u001b[0m\u001b[0;31m:\u001b[0m unexpected EOF while parsing\n"
          ]
        }
      ]
    },
    {
      "metadata": {
        "id": "DCd9xBslaAOH",
        "colab_type": "code",
        "outputId": "3a431fcf-5a8d-4e08-8e4f-c2c07a1b3e87",
        "colab": {
          "base_uri": "https://localhost:8080/",
          "height": 54
        }
      },
      "cell_type": "code",
      "source": [
        "ret.json()['items'][0]['company_number'] + \"|\" + ret.json()['items'][0]['address_snippet'] + \"|\" + ret.json()['items'][0]['company_status'] + \"|\""
      ],
      "execution_count": 0,
      "outputs": [
        {
          "output_type": "execute_result",
          "data": {
            "text/plain": [
              "'01833679|Vodafone House, The Connection, Newbury, Berkshire, RG14 2FN|active|'"
            ]
          },
          "metadata": {
            "tags": []
          },
          "execution_count": 22
        }
      ]
    },
    {
      "metadata": {
        "id": "aGCj9UQoa7rf",
        "colab_type": "code",
        "colab": {}
      },
      "cell_type": "code",
      "source": [
        "with open('/content/eggs.csv', 'w', newline='') as csvfile:\n",
        "    spamwriter = csv.writer(csvfile, delimiter=' ',\n",
        "                            quotechar='|', quoting=csv.QUOTE_MINIMAL)\n",
        "    spamwriter.writerow(['Spam'] * 5 + ['Baked Beans'])\n",
        "    spamwriter.writerow(['Spam', 'Lovely Spam', 'Wonderful Spam'])"
      ],
      "execution_count": 0,
      "outputs": []
    },
    {
      "metadata": {
        "id": "yI7NJWBtbUqc",
        "colab_type": "code",
        "colab": {}
      },
      "cell_type": "code",
      "source": [
        ""
      ],
      "execution_count": 0,
      "outputs": []
    }
  ]
}